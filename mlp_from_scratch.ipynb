{
 "cells": [
  {
   "cell_type": "markdown",
   "id": "89d59144-de37-4797-a68b-7024cda50d22",
   "metadata": {},
   "source": [
    "***Machine Learning : Project 1***  \n"
   ]
  },
  {
   "cell_type": "code",
   "execution_count": 1,
   "id": "d8ab3dcd-fec2-4230-95f1-c5c88647a7fe",
   "metadata": {
    "ExecuteTime": {
     "end_time": "2021-12-14T06:36:38.447362Z",
     "start_time": "2021-12-14T06:36:37.850834Z"
    },
    "execution": {
     "iopub.execute_input": "2021-12-15T13:03:52.484783Z",
     "iopub.status.busy": "2021-12-15T13:03:52.484502Z",
     "iopub.status.idle": "2021-12-15T13:03:53.596621Z",
     "shell.execute_reply": "2021-12-15T13:03:53.595958Z",
     "shell.execute_reply.started": "2021-12-15T13:03:52.484720Z"
    },
    "tags": []
   },
   "outputs": [],
   "source": [
    "# Packages import\n",
    "import numpy as np\n",
    "import pandas as pd\n",
    "import matplotlib.pyplot as plt\n",
    "import pickle\n"
   ]
  },
  {
   "cell_type": "markdown",
   "id": "3d594aed-3473-4493-a917-0c349d1f44b1",
   "metadata": {
    "tags": []
   },
   "source": [
    "# Linear regression : Numpy를 이용하여 구현하기"
   ]
  },
  {
   "cell_type": "markdown",
   "id": "b4a1aa1f-e816-4d62-bb91-b75c556a8f87",
   "metadata": {},
   "source": [
    "##  Linear regression을 위한 Parameter의 Gradient 식 정리"
   ]
  },
  {
   "cell_type": "markdown",
   "id": "30e1c17c-0e6f-405e-91b8-8abd397b8f33",
   "metadata": {},
   "source": [
    "$$ \\frac{\\partial \\bf J}{\\partial \\bf w} = \\sum_{i=1}^N{2 \\bf x_i(\\bf w^\\top \\bf x_i + b - t_i)} $$"
   ]
  },
  {
   "cell_type": "markdown",
   "id": "c27af844-4d2d-4e7d-a2ef-76bb6270734c",
   "metadata": {},
   "source": [
    "$$ \\frac{\\partial \\bf J}{\\partial b} = \\sum_{i=1}^N 2(\\bf w^\\top x_i + b - t_i)$$"
   ]
  },
  {
   "cell_type": "markdown",
   "id": "33cc05bc-c593-45fb-92e2-4a4043a8664b",
   "metadata": {},
   "source": [
    "Design matrix version\n",
    "\n",
    "$$ \\frac{\\partial \\bf J}{\\partial \\bf w} = 2 (\\bf X^\\top \\bf X \\bf w - \\bf X^\\top \\bf t)  $$\n"
   ]
  },
  {
   "cell_type": "markdown",
   "id": "8f63c39c-4538-40d0-b373-a2396d810440",
   "metadata": {},
   "source": [
    "## Linear regression 학습을 위한 Stochastic Gradient Descent (SGD) Method"
   ]
  },
  {
   "cell_type": "markdown",
   "id": "d55722cd-63d9-4597-9827-2cf11d2eb8bf",
   "metadata": {
    "execution": {
     "iopub.execute_input": "2021-12-09T12:29:40.018526Z",
     "iopub.status.busy": "2021-12-09T12:29:40.018262Z",
     "iopub.status.idle": "2021-12-09T12:29:40.021330Z",
     "shell.execute_reply": "2021-12-09T12:29:40.020697Z",
     "shell.execute_reply.started": "2021-12-09T12:29:40.018493Z"
    },
    "tags": []
   },
   "source": [
    "### SGD를 이용한 parameter update 식 정리"
   ]
  },
  {
   "cell_type": "markdown",
   "id": "0268bd08-8cb2-48f0-97ce-dd926e219fe3",
   "metadata": {},
   "source": [
    "batch_num = ceil(N / M)  \n",
    "lr = $\\eta$  \n",
    "for i in range(epoch){  \n",
    "    $\\quad$ for j in range(batch_num){  \n",
    "        $\\qquad D_m = sample(X, m)$  \n",
    "        $\\qquad w_{grad} = \\sum_{i=1}^N{2 \\bf x_i(\\bf w^\\top \\bf x_i + b - t_i)} $  \n",
    "        $\\qquad b_{grad} = \\sum_{i=1}^N 2(\\bf w^\\top x_i + b - t_i )$  \n",
    "        $\\qquad w = w - lr * w_{grad}$  \n",
    "        $\\qquad b = b - lr * b_{grad}$  \n",
    "    $\\quad$}  \n",
    "}"
   ]
  },
  {
   "cell_type": "markdown",
   "id": "1b72df2d-6e5e-4778-9ba7-1145ab8f2c6f",
   "metadata": {},
   "source": [
    "### L2 regularization 추가"
   ]
  },
  {
   "cell_type": "markdown",
   "id": "67f79dcc-013a-435e-9b08-4d6d964aadfe",
   "metadata": {},
   "source": [
    "batch_num = ceil(N / M)  \n",
    "lr = $\\eta$  \n",
    "for i in range(epoch){  \n",
    "    $\\quad$ for j in range(batch_num){  \n",
    "        $\\qquad D_m = sample(X, m)$  \n",
    "        $\\qquad w_{grad} = \\sum_{i=1}^N{2 \\bf x_i(\\bf w^\\top \\bf x_i + b - t_i)} $  \n",
    "        $\\qquad b_{grad} = \\sum_{i=1}^N 2(\\bf w^\\top x_i + b - t_i )$  \n",
    "        $\\qquad w = w - lr * (w_{grad} + \\lambda w)$  \n",
    "        $\\qquad b = b - lr * b_{grad}$  \n",
    "    $\\quad$}  \n",
    "}"
   ]
  },
  {
   "cell_type": "markdown",
   "id": "1af5d477-5843-4da3-ab0e-7fc58b410882",
   "metadata": {},
   "source": [
    "### Early stopping 추가"
   ]
  },
  {
   "cell_type": "markdown",
   "id": "dcaa21a3-ec5d-4dc4-bfea-1f3a03bec17b",
   "metadata": {},
   "source": [
    "Early Stopping은 모델이 학습 데이터에 과적합되는 것을 방지하는 역할을 한다. 매 epoch마다 validation 데이터를 이용하여 best_loss와 현재 valid_loss를 비교한다. 만약 현재 loss가 더 작다면 best_loss를 업데이트하고 현재 모델의 스냅샷을 찍어놓는다. 만약 best_epoch에서 n_early 에포크만큼 증가하였을 때까지 loss가 줄지 않으면 모델이 과적합 되는 중이므로, 학습을 중단하고 스냅샷을 찍어놓은 모델을 최종 모델로 선택한다."
   ]
  },
  {
   "cell_type": "markdown",
   "id": "43cef7eb-4f02-4eb1-ad87-89fa8fcd5f1a",
   "metadata": {},
   "source": [
    "## [Main Project] Linear regression을 위한 SGD 구현"
   ]
  },
  {
   "cell_type": "markdown",
   "id": "b7682bce-161c-40f2-9517-91b4b7e06e67",
   "metadata": {},
   "source": [
    "### 랜덤 데이터 생성기 구현 : Gaussian 분포에 기반"
   ]
  },
  {
   "cell_type": "code",
   "execution_count": 5,
   "id": "4e5c1adb-0929-4611-a1bb-295938b8f749",
   "metadata": {
    "ExecuteTime": {
     "end_time": "2021-12-14T06:36:43.183468Z",
     "start_time": "2021-12-14T06:36:42.828413Z"
    },
    "execution": {
     "iopub.execute_input": "2021-12-15T13:03:54.207613Z",
     "iopub.status.busy": "2021-12-15T13:03:54.207355Z",
     "iopub.status.idle": "2021-12-15T13:03:54.665892Z",
     "shell.execute_reply": "2021-12-15T13:03:54.665172Z",
     "shell.execute_reply.started": "2021-12-15T13:03:54.207586Z"
    },
    "tags": []
   },
   "outputs": [
    {
     "name": "stdout",
     "output_type": "stream",
     "text": [
      "랜덤 데이터 생성이 완료되었습니다.\n",
      "X = (10000, 10), t = (10000,), w = (10,), b = (1,)\n"
     ]
    }
   ],
   "source": [
    "# Generate random datasets\n",
    "file_name = \"myrandomdataset.pkl\"\n",
    "!python3 LinearRegression/gen_random_dataset.py --n_total 10000 --feature_dim 10 --file_name $file_name"
   ]
  },
  {
   "cell_type": "markdown",
   "id": "de6a4da8-f817-4b85-bf61-0a468523ea48",
   "metadata": {
    "execution": {
     "iopub.execute_input": "2021-12-10T06:12:29.351407Z",
     "iopub.status.busy": "2021-12-10T06:12:29.351118Z",
     "iopub.status.idle": "2021-12-10T06:12:29.357369Z",
     "shell.execute_reply": "2021-12-10T06:12:29.356834Z",
     "shell.execute_reply.started": "2021-12-10T06:12:29.351371Z"
    }
   },
   "source": [
    "### scikit 샘플 예제 : diabets"
   ]
  },
  {
   "cell_type": "markdown",
   "id": "88134e4e-d3bb-4cf8-9d75-7f66cfdf9710",
   "metadata": {
    "execution": {
     "iopub.execute_input": "2021-12-10T06:18:49.537553Z",
     "iopub.status.busy": "2021-12-10T06:18:49.537298Z",
     "iopub.status.idle": "2021-12-10T06:18:49.541104Z",
     "shell.execute_reply": "2021-12-10T06:18:49.540529Z",
     "shell.execute_reply.started": "2021-12-10T06:18:49.537521Z"
    },
    "tags": []
   },
   "source": [
    "### Linear regression 학습기 테스트"
   ]
  },
  {
   "cell_type": "markdown",
   "id": "cefa89ba-f607-45b0-8250-d961016f5217",
   "metadata": {},
   "source": [
    "#### 코드 설명\n",
    "\n",
    "0. gen_random_dataset.py\n",
    "    - gen_random_dataset : 랜덤 데이터셋을 생성하고, pickle을 이용하여 파일로 저장한다.\n",
    "\n",
    "1. datatools.py\n",
    "    - get_dataset_with_parameters, get_diabetes_data : 생성된 데이터셋을 읽어온다 (random_dataset, diabetes_dataset).\n",
    "    - DataLoader (class) : 미니배치 방식으로 학습시키기 위하여 만든 클래스이다. train data를 넣으면 배치사이즈 크기로 데이터를 나누며, 해당 데이터셋을 멤버 변수로 저장한다. 그리고 iterator로 작동하기 위하여, __iter__와 __next__를 작성한다. __next__는 나눠진 미니배치가 모두 사용될때까지 인덱스를 1씩 키우며, 만약 모든 미니배치를 다 읽어왔다면, 해당 미니배치를 shuffle하고, index를 0으로 초기화한다.\n",
    "\n",
    "2. linear_regression.py\n",
    "    - linear_regression(Class) : 선형회귀 모델 클래스이다. 피쳐의 차원을 받아 weight와 bias를 초기화하고, forward를 호출시 선형회귀직선에 X를 대입하여 반환한다.\n",
    "    \n",
    "3. trainer.py\n",
    "    - linear_regression_trainer(Class) : 모델을 학습 시키는 wrapper 클래스이다. 모델 인스턴스와 데이터셋, 하이퍼파라미터를 입력으로 받고 멤버변수로 저장한다.\n",
    "        - train : 모델을 n_epoch만큼 학습한다. n_epoch 만큼 이터레이션을 돌며 한 에포크에 모든 미니배치 데이터셋을 이용하여 학습한다. early_stopping을 사용시, 이전 best_loss와 현재 loss를 비교하여 더 낮다면 업데이트하고, early_count를 0으로 초기화한다. 그리고 해당 파라미터를 deepcopy하여 저장한다. 만약 n_iter_no_change 만큼 변화가 없었다면 학습을 종료한다. weight_decay (L2 regularization)도 적용하고, 기울기 공식을 이용하여 파라미터를 업데이트한다. 매 에포크마다 train / valid / test loss를 출력한다.\n",
    "        - get_mse_loss : 모델의 output과 실제 t를 이용하여 Mean Square Error를 구한다.\n",
    "        - evaluate : validation, test 데이터를 이용하여 mse_loss를 구한다.\n",
    "        \n",
    "4. main.py\n",
    "    - main : fire 패키지를 이용하여 CLI로 학습을 진행하였다. fire를 통해 터미널로 인자를 입력받고 해당 하이퍼파라미터를 이용하여 모델과 트레이너를 생성한다. 그리고 입력받은 에포크만큼 모델을 학습시킨다."
   ]
  },
  {
   "cell_type": "markdown",
   "id": "d45596f6-deab-42e0-90a7-433fedddc25d",
   "metadata": {},
   "source": [
    "#### 실행 결과"
   ]
  },
  {
   "cell_type": "code",
   "execution_count": 15,
   "id": "0656fdbf-9c1c-4e8f-a922-d0e7232fa09d",
   "metadata": {
    "ExecuteTime": {
     "end_time": "2021-12-14T06:37:01.078247Z",
     "start_time": "2021-12-14T06:36:59.957720Z"
    },
    "execution": {
     "iopub.execute_input": "2021-12-15T13:36:09.715924Z",
     "iopub.status.busy": "2021-12-15T13:36:09.715724Z",
     "iopub.status.idle": "2021-12-15T13:36:10.561356Z",
     "shell.execute_reply": "2021-12-15T13:36:10.560441Z",
     "shell.execute_reply.started": "2021-12-15T13:36:09.715904Z"
    },
    "tags": []
   },
   "outputs": [
    {
     "name": "stdout",
     "output_type": "stream",
     "text": [
      "epoch : 1   train_loss : 120.530   valid_loss : 1.318   test_loss : 1.368\n",
      "            w_SE : 0.001   b_SE : 0.356\n",
      "epoch : 2   train_loss : 1.147   valid_loss : 0.983   test_loss : 1.023\n",
      "            w_SE : 0.001   b_SE : 0.026\n",
      "epoch : 3   train_loss : 1.029   valid_loss : 1.020   test_loss : 1.035\n",
      "            w_SE : 0.001   b_SE : 0.002\n",
      "epoch : 4   train_loss : 1.019   valid_loss : 1.003   test_loss : 1.031\n",
      "            w_SE : 0.001   b_SE : 0.000\n",
      "epoch : 5   train_loss : 1.020   valid_loss : 0.984   test_loss : 1.027\n",
      "            w_SE : 0.001   b_SE : 0.000\n",
      "epoch : 6   train_loss : 1.019   valid_loss : 0.978   test_loss : 1.001\n",
      "            w_SE : 0.001   b_SE : 0.000\n",
      "epoch : 7   train_loss : 1.024   valid_loss : 0.963   test_loss : 1.015\n",
      "            w_SE : 0.001   b_SE : 0.000\n",
      "epoch : 8   train_loss : 1.021   valid_loss : 0.961   test_loss : 1.000\n",
      "            w_SE : 0.000   b_SE : 0.000\n",
      "epoch : 9   train_loss : 1.017   valid_loss : 1.012   test_loss : 1.079\n",
      "            w_SE : 0.001   b_SE : 0.000\n",
      "epoch : 10   train_loss : 1.020   valid_loss : 1.011   test_loss : 1.035\n",
      "            w_SE : 0.001   b_SE : 0.000\n",
      "epoch : 11   train_loss : 1.022   valid_loss : 0.985   test_loss : 1.028\n",
      "            w_SE : 0.001   b_SE : 0.000\n",
      "epoch : 12   train_loss : 1.018   valid_loss : 0.995   test_loss : 1.052\n",
      "            w_SE : 0.001   b_SE : 0.000\n",
      "epoch : 13   train_loss : 1.020   valid_loss : 0.986   test_loss : 1.050\n",
      "            w_SE : 0.001   b_SE : 0.000\n",
      "Train finished. Best model's test loss : 1.000\n"
     ]
    }
   ],
   "source": [
    "# random dataset\n",
    "\n",
    "!python3 LinearRegression/main.py --data_name random_dataset --feature_dim 10 --n_epoch 1000 --early_stopping True --learning_rate 1e-2"
   ]
  },
  {
   "cell_type": "code",
   "execution_count": 14,
   "id": "bd193d51-2489-413d-bd2e-b8c955cdf8d3",
   "metadata": {
    "ExecuteTime": {
     "end_time": "2021-12-14T06:37:54.989489Z",
     "start_time": "2021-12-14T06:37:54.089569Z"
    },
    "execution": {
     "iopub.execute_input": "2021-12-15T13:35:57.707852Z",
     "iopub.status.busy": "2021-12-15T13:35:57.707660Z",
     "iopub.status.idle": "2021-12-15T13:35:58.567538Z",
     "shell.execute_reply": "2021-12-15T13:35:58.566815Z",
     "shell.execute_reply.started": "2021-12-15T13:35:57.707833Z"
    },
    "tags": []
   },
   "outputs": [
    {
     "name": "stdout",
     "output_type": "stream",
     "text": [
      "epoch : 1   train_loss : 19123.190   valid_loss : 9685.052   test_loss : 11291.136\n",
      "epoch : 2   train_loss : 8914.449   valid_loss : 6240.632   test_loss : 7569.018\n",
      "epoch : 3   train_loss : 6565.679   valid_loss : 5579.407   test_loss : 6771.898\n",
      "epoch : 4   train_loss : 6017.879   valid_loss : 5479.599   test_loss : 6607.044\n",
      "epoch : 5   train_loss : 5874.181   valid_loss : 5465.913   test_loss : 6559.921\n",
      "epoch : 6   train_loss : 5819.053   valid_loss : 5463.485   test_loss : 6534.032\n",
      "epoch : 7   train_loss : 5783.060   valid_loss : 5462.147   test_loss : 6514.320\n",
      "epoch : 8   train_loss : 5756.772   valid_loss : 5446.343   test_loss : 6489.297\n",
      "epoch : 9   train_loss : 5732.361   valid_loss : 5432.377   test_loss : 6465.634\n",
      "epoch : 10   train_loss : 5707.546   valid_loss : 5421.981   test_loss : 6444.430\n",
      "epoch : 11   train_loss : 5685.774   valid_loss : 5401.788   test_loss : 6418.011\n",
      "epoch : 12   train_loss : 5662.013   valid_loss : 5386.928   test_loss : 6394.911\n",
      "epoch : 13   train_loss : 5638.670   valid_loss : 5375.539   test_loss : 6374.190\n",
      "epoch : 14   train_loss : 5619.578   valid_loss : 5349.197   test_loss : 6344.777\n",
      "epoch : 15   train_loss : 5596.517   valid_loss : 5321.601   test_loss : 6315.113\n",
      "epoch : 16   train_loss : 5575.525   valid_loss : 5300.890   test_loss : 6289.643\n",
      "epoch : 17   train_loss : 5554.932   valid_loss : 5287.496   test_loss : 6268.398\n",
      "epoch : 18   train_loss : 5534.035   valid_loss : 5270.342   test_loss : 6245.318\n",
      "epoch : 19   train_loss : 5512.218   valid_loss : 5242.684   test_loss : 6216.881\n",
      "epoch : 20   train_loss : 5494.736   valid_loss : 5232.455   test_loss : 6197.880\n",
      "epoch : 21   train_loss : 5474.567   valid_loss : 5224.330   test_loss : 6180.455\n",
      "epoch : 22   train_loss : 5455.086   valid_loss : 5199.293   test_loss : 6153.868\n",
      "epoch : 23   train_loss : 5436.676   valid_loss : 5180.777   test_loss : 6131.155\n",
      "epoch : 24   train_loss : 5417.950   valid_loss : 5175.681   test_loss : 6115.915\n",
      "epoch : 25   train_loss : 5399.524   valid_loss : 5151.402   test_loss : 6090.398\n",
      "epoch : 26   train_loss : 5382.557   valid_loss : 5146.299   test_loss : 6075.588\n",
      "epoch : 27   train_loss : 5365.020   valid_loss : 5136.392   test_loss : 6058.460\n",
      "epoch : 28   train_loss : 5347.102   valid_loss : 5112.005   test_loss : 6033.252\n",
      "epoch : 29   train_loss : 5331.087   valid_loss : 5103.932   test_loss : 6017.438\n",
      "epoch : 30   train_loss : 5314.232   valid_loss : 5086.349   test_loss : 5996.458\n",
      "epoch : 31   train_loss : 5298.188   valid_loss : 5074.904   test_loss : 5979.112\n",
      "epoch : 32   train_loss : 5282.132   valid_loss : 5063.430   test_loss : 5961.930\n",
      "epoch : 33   train_loss : 5264.333   valid_loss : 5041.559   test_loss : 5939.090\n",
      "epoch : 34   train_loss : 5250.493   valid_loss : 5028.859   test_loss : 5921.524\n",
      "epoch : 35   train_loss : 5235.538   valid_loss : 5018.832   test_loss : 5905.584\n",
      "epoch : 36   train_loss : 5219.521   valid_loss : 5013.881   test_loss : 5892.762\n",
      "epoch : 37   train_loss : 5205.263   valid_loss : 4996.090   test_loss : 5872.759\n",
      "epoch : 38   train_loss : 5190.456   valid_loss : 4987.792   test_loss : 5858.343\n",
      "epoch : 39   train_loss : 5174.319   valid_loss : 4966.128   test_loss : 5836.585\n",
      "epoch : 40   train_loss : 5162.613   valid_loss : 4956.407   test_loss : 5821.574\n",
      "epoch : 41   train_loss : 5148.491   valid_loss : 4947.333   test_loss : 5807.094\n",
      "epoch : 42   train_loss : 5134.143   valid_loss : 4944.112   test_loss : 5796.182\n",
      "epoch : 43   train_loss : 5121.686   valid_loss : 4933.137   test_loss : 5780.952\n",
      "epoch : 44   train_loss : 5108.834   valid_loss : 4920.447   test_loss : 5764.847\n",
      "epoch : 45   train_loss : 5094.645   valid_loss : 4916.148   test_loss : 5753.853\n",
      "epoch : 46   train_loss : 5081.613   valid_loss : 4894.443   test_loss : 5732.723\n",
      "epoch : 47   train_loss : 5070.024   valid_loss : 4884.649   test_loss : 5718.697\n",
      "epoch : 48   train_loss : 5057.894   valid_loss : 4875.205   test_loss : 5704.992\n",
      "epoch : 49   train_loss : 5045.439   valid_loss : 4868.024   test_loss : 5692.725\n",
      "epoch : 50   train_loss : 5033.783   valid_loss : 4859.332   test_loss : 5679.726\n",
      "epoch : 51   train_loss : 5022.008   valid_loss : 4846.121   test_loss : 5664.199\n",
      "epoch : 52   train_loss : 5008.724   valid_loss : 4848.354   test_loss : 5657.970\n",
      "epoch : 53   train_loss : 4999.211   valid_loss : 4840.960   test_loss : 5646.136\n",
      "epoch : 54   train_loss : 4988.141   valid_loss : 4823.919   test_loss : 5628.496\n",
      "epoch : 55   train_loss : 4975.836   valid_loss : 4807.642   test_loss : 5611.619\n",
      "epoch : 56   train_loss : 4965.912   valid_loss : 4803.644   test_loss : 5602.014\n",
      "epoch : 57   train_loss : 4954.895   valid_loss : 4790.583   test_loss : 5587.241\n",
      "epoch : 58   train_loss : 4944.597   valid_loss : 4783.940   test_loss : 5576.305\n",
      "epoch : 59   train_loss : 4933.843   valid_loss : 4781.323   test_loss : 5567.906\n",
      "epoch : 60   train_loss : 4923.420   valid_loss : 4777.348   test_loss : 5558.880\n",
      "epoch : 61   train_loss : 4914.319   valid_loss : 4767.977   test_loss : 5546.634\n",
      "epoch : 62   train_loss : 4904.225   valid_loss : 4755.407   test_loss : 5532.542\n",
      "epoch : 63   train_loss : 4893.763   valid_loss : 4752.060   test_loss : 5524.169\n",
      "epoch : 64   train_loss : 4885.267   valid_loss : 4740.304   test_loss : 5510.741\n",
      "epoch : 65   train_loss : 4874.175   valid_loss : 4723.222   test_loss : 5494.377\n",
      "epoch : 66   train_loss : 4865.456   valid_loss : 4711.921   test_loss : 5481.600\n",
      "epoch : 67   train_loss : 4857.048   valid_loss : 4708.652   test_loss : 5473.438\n",
      "epoch : 68   train_loss : 4847.954   valid_loss : 4703.925   test_loss : 5464.582\n",
      "epoch : 69   train_loss : 4838.003   valid_loss : 4705.196   test_loss : 5459.489\n",
      "epoch : 70   train_loss : 4830.619   valid_loss : 4696.624   test_loss : 5448.530\n",
      "epoch : 71   train_loss : 4820.888   valid_loss : 4682.240   test_loss : 5434.206\n",
      "epoch : 72   train_loss : 4812.213   valid_loss : 4671.327   test_loss : 5422.136\n",
      "epoch : 73   train_loss : 4804.358   valid_loss : 4663.065   test_loss : 5411.688\n",
      "epoch : 74   train_loss : 4796.150   valid_loss : 4654.911   test_loss : 5401.391\n",
      "epoch : 75   train_loss : 4787.992   valid_loss : 4647.985   test_loss : 5391.856\n",
      "epoch : 76   train_loss : 4780.905   valid_loss : 4648.423   test_loss : 5386.587\n",
      "epoch : 77   train_loss : 4772.203   valid_loss : 4650.643   test_loss : 5382.700\n",
      "epoch : 78   train_loss : 4764.532   valid_loss : 4641.229   test_loss : 5371.857\n",
      "epoch : 79   train_loss : 4757.235   valid_loss : 4635.821   test_loss : 5363.533\n",
      "epoch : 80   train_loss : 4748.511   valid_loss : 4637.433   test_loss : 5359.671\n",
      "epoch : 81   train_loss : 4742.705   valid_loss : 4626.707   test_loss : 5348.162\n",
      "epoch : 82   train_loss : 4735.212   valid_loss : 4621.368   test_loss : 5340.094\n",
      "epoch : 83   train_loss : 4727.750   valid_loss : 4615.794   test_loss : 5331.943\n",
      "epoch : 84   train_loss : 4720.622   valid_loss : 4605.693   test_loss : 5321.070\n",
      "epoch : 85   train_loss : 4713.292   valid_loss : 4595.852   test_loss : 5310.484\n",
      "epoch : 86   train_loss : 4706.465   valid_loss : 4587.311   test_loss : 5300.779\n",
      "epoch : 87   train_loss : 4699.583   valid_loss : 4588.959   test_loss : 5297.210\n",
      "epoch : 88   train_loss : 4693.440   valid_loss : 4582.267   test_loss : 5288.695\n",
      "epoch : 89   train_loss : 4686.371   valid_loss : 4576.519   test_loss : 5280.834\n",
      "epoch : 90   train_loss : 4680.134   valid_loss : 4572.484   test_loss : 5274.062\n",
      "epoch : 91   train_loss : 4672.550   valid_loss : 4559.854   test_loss : 5262.232\n",
      "epoch : 92   train_loss : 4666.883   valid_loss : 4551.506   test_loss : 5253.082\n",
      "epoch : 93   train_loss : 4660.870   valid_loss : 4556.657   test_loss : 5251.879\n",
      "epoch : 94   train_loss : 4654.990   valid_loss : 4551.921   test_loss : 5244.920\n",
      "epoch : 95   train_loss : 4648.540   valid_loss : 4553.590   test_loss : 5242.011\n",
      "epoch : 96   train_loss : 4643.238   valid_loss : 4544.474   test_loss : 5232.430\n",
      "epoch : 97   train_loss : 4637.161   valid_loss : 4537.806   test_loss : 5224.448\n",
      "epoch : 98   train_loss : 4631.562   valid_loss : 4530.627   test_loss : 5216.225\n",
      "epoch : 99   train_loss : 4625.650   valid_loss : 4528.528   test_loss : 5211.143\n",
      "epoch : 100   train_loss : 4620.349   valid_loss : 4526.679   test_loss : 5206.287\n",
      "epoch : 101   train_loss : 4614.678   valid_loss : 4520.142   test_loss : 5198.593\n",
      "epoch : 102   train_loss : 4609.076   valid_loss : 4515.483   test_loss : 5192.107\n",
      "epoch : 103   train_loss : 4603.681   valid_loss : 4508.299   test_loss : 5184.137\n",
      "epoch : 104   train_loss : 4597.895   valid_loss : 4499.994   test_loss : 5175.588\n",
      "epoch : 105   train_loss : 4592.574   valid_loss : 4493.414   test_loss : 5168.139\n",
      "epoch : 106   train_loss : 4588.473   valid_loss : 4495.125   test_loss : 5165.616\n",
      "epoch : 107   train_loss : 4582.192   valid_loss : 4488.237   test_loss : 5158.057\n",
      "epoch : 108   train_loss : 4577.735   valid_loss : 4481.769   test_loss : 5150.813\n",
      "epoch : 109   train_loss : 4573.253   valid_loss : 4483.758   test_loss : 5148.617\n",
      "epoch : 110   train_loss : 4568.137   valid_loss : 4477.470   test_loss : 5141.533\n",
      "epoch : 111   train_loss : 4563.459   valid_loss : 4478.457   test_loss : 5138.895\n",
      "epoch : 112   train_loss : 4558.639   valid_loss : 4477.304   test_loss : 5135.042\n",
      "epoch : 113   train_loss : 4551.694   valid_loss : 4463.012   test_loss : 5123.255\n",
      "epoch : 114   train_loss : 4549.383   valid_loss : 4466.415   test_loss : 5122.157\n",
      "epoch : 115   train_loss : 4544.601   valid_loss : 4467.901   test_loss : 5120.080\n",
      "epoch : 116   train_loss : 4540.527   valid_loss : 4463.075   test_loss : 5114.100\n",
      "epoch : 117   train_loss : 4535.113   valid_loss : 4464.903   test_loss : 5112.383\n",
      "epoch : 118   train_loss : 4531.619   valid_loss : 4461.367   test_loss : 5107.292\n",
      "epoch : 119   train_loss : 4527.541   valid_loss : 4453.518   test_loss : 5099.492\n",
      "epoch : 120   train_loss : 4522.683   valid_loss : 4449.150   test_loss : 5093.955\n",
      "epoch : 121   train_loss : 4517.055   valid_loss : 4435.856   test_loss : 5083.047\n",
      "epoch : 122   train_loss : 4514.211   valid_loss : 4430.822   test_loss : 5077.242\n",
      "epoch : 123   train_loss : 4510.688   valid_loss : 4431.438   test_loss : 5074.802\n",
      "epoch : 124   train_loss : 4506.251   valid_loss : 4426.047   test_loss : 5068.841\n",
      "epoch : 125   train_loss : 4502.609   valid_loss : 4424.626   test_loss : 5065.278\n",
      "epoch : 126   train_loss : 4497.480   valid_loss : 4431.824   test_loss : 5067.121\n",
      "epoch : 127   train_loss : 4494.665   valid_loss : 4423.995   test_loss : 5059.667\n",
      "epoch : 128   train_loss : 4490.673   valid_loss : 4420.806   test_loss : 5055.164\n",
      "epoch : 129   train_loss : 4486.964   valid_loss : 4416.492   test_loss : 5049.984\n",
      "epoch : 130   train_loss : 4482.910   valid_loss : 4413.490   test_loss : 5045.658\n",
      "epoch : 131   train_loss : 4479.006   valid_loss : 4405.890   test_loss : 5038.585\n",
      "epoch : 132   train_loss : 4475.464   valid_loss : 4400.806   test_loss : 5033.087\n",
      "epoch : 133   train_loss : 4471.177   valid_loss : 4410.599   test_loss : 5036.693\n",
      "epoch : 134   train_loss : 4469.435   valid_loss : 4406.692   test_loss : 5031.911\n",
      "epoch : 135   train_loss : 4465.257   valid_loss : 4406.214   test_loss : 5029.344\n",
      "epoch : 136   train_loss : 4461.724   valid_loss : 4395.642   test_loss : 5020.474\n",
      "epoch : 137   train_loss : 4458.746   valid_loss : 4397.117   test_loss : 5019.136\n",
      "epoch : 138   train_loss : 4454.907   valid_loss : 4389.963   test_loss : 5012.490\n",
      "epoch : 139   train_loss : 4451.918   valid_loss : 4387.778   test_loss : 5008.949\n",
      "epoch : 140   train_loss : 4447.900   valid_loss : 4380.142   test_loss : 5002.152\n",
      "epoch : 141   train_loss : 4444.844   valid_loss : 4387.701   test_loss : 5004.628\n",
      "epoch : 142   train_loss : 4442.488   valid_loss : 4382.113   test_loss : 4999.038\n",
      "epoch : 143   train_loss : 4439.274   valid_loss : 4384.124   test_loss : 4998.236\n",
      "epoch : 144   train_loss : 4436.374   valid_loss : 4379.526   test_loss : 4993.303\n",
      "epoch : 145   train_loss : 4432.823   valid_loss : 4377.130   test_loss : 4989.790\n",
      "epoch : 146   train_loss : 4430.001   valid_loss : 4370.320   test_loss : 4983.567\n",
      "epoch : 147   train_loss : 4426.872   valid_loss : 4366.770   test_loss : 4979.401\n",
      "epoch : 148   train_loss : 4422.686   valid_loss : 4358.637   test_loss : 4972.559\n",
      "epoch : 149   train_loss : 4420.783   valid_loss : 4368.050   test_loss : 4976.328\n",
      "epoch : 150   train_loss : 4418.630   valid_loss : 4364.192   test_loss : 4972.027\n",
      "epoch : 151   train_loss : 4415.126   valid_loss : 4368.265   test_loss : 4972.771\n",
      "epoch : 152   train_loss : 4413.165   valid_loss : 4364.086   test_loss : 4968.288\n",
      "epoch : 153   train_loss : 4410.363   valid_loss : 4357.677   test_loss : 4962.436\n",
      "epoch : 154   train_loss : 4406.318   valid_loss : 4348.810   test_loss : 4955.209\n",
      "epoch : 155   train_loss : 4404.219   valid_loss : 4355.330   test_loss : 4957.432\n",
      "epoch : 156   train_loss : 4401.267   valid_loss : 4346.979   test_loss : 4950.510\n",
      "epoch : 157   train_loss : 4399.298   valid_loss : 4346.720   test_loss : 4948.600\n",
      "epoch : 158   train_loss : 4397.261   valid_loss : 4346.357   test_loss : 4946.660\n",
      "epoch : 159   train_loss : 4393.496   valid_loss : 4339.106   test_loss : 4940.526\n",
      "epoch : 160   train_loss : 4391.215   valid_loss : 4343.486   test_loss : 4941.543\n",
      "epoch : 161   train_loss : 4389.345   valid_loss : 4339.383   test_loss : 4937.356\n",
      "epoch : 162   train_loss : 4386.689   valid_loss : 4337.239   test_loss : 4934.414\n",
      "epoch : 163   train_loss : 4384.840   valid_loss : 4335.915   test_loss : 4931.986\n",
      "epoch : 164   train_loss : 4382.411   valid_loss : 4331.972   test_loss : 4927.968\n",
      "epoch : 165   train_loss : 4379.113   valid_loss : 4326.111   test_loss : 4922.839\n",
      "epoch : 166   train_loss : 4377.568   valid_loss : 4326.345   test_loss : 4921.397\n",
      "epoch : 167   train_loss : 4375.313   valid_loss : 4325.454   test_loss : 4919.305\n",
      "epoch : 168   train_loss : 4371.600   valid_loss : 4334.556   test_loss : 4923.523\n",
      "epoch : 169   train_loss : 4369.281   valid_loss : 4321.321   test_loss : 4913.782\n",
      "epoch : 170   train_loss : 4367.169   valid_loss : 4315.067   test_loss : 4908.563\n",
      "epoch : 171   train_loss : 4366.738   valid_loss : 4318.780   test_loss : 4909.292\n",
      "epoch : 172   train_loss : 4364.091   valid_loss : 4316.372   test_loss : 4906.379\n",
      "epoch : 173   train_loss : 4362.001   valid_loss : 4313.904   test_loss : 4903.448\n",
      "epoch : 174   train_loss : 4359.479   valid_loss : 4318.168   test_loss : 4904.666\n",
      "epoch : 175   train_loss : 4358.098   valid_loss : 4319.112   test_loss : 4903.894\n",
      "epoch : 176   train_loss : 4355.442   valid_loss : 4314.161   test_loss : 4899.442\n",
      "epoch : 177   train_loss : 4353.967   valid_loss : 4310.980   test_loss : 4896.124\n",
      "epoch : 178   train_loss : 4351.592   valid_loss : 4308.647   test_loss : 4893.359\n",
      "epoch : 179   train_loss : 4350.092   valid_loss : 4310.250   test_loss : 4893.037\n",
      "epoch : 180   train_loss : 4347.920   valid_loss : 4310.865   test_loss : 4892.140\n",
      "epoch : 181   train_loss : 4345.592   valid_loss : 4304.200   test_loss : 4886.720\n",
      "epoch : 182   train_loss : 4343.573   valid_loss : 4305.155   test_loss : 4886.057\n",
      "epoch : 183   train_loss : 4342.024   valid_loss : 4302.566   test_loss : 4883.198\n",
      "epoch : 184   train_loss : 4340.526   valid_loss : 4301.338   test_loss : 4881.206\n",
      "epoch : 185   train_loss : 4338.558   valid_loss : 4299.730   test_loss : 4878.993\n",
      "epoch : 186   train_loss : 4336.774   valid_loss : 4300.071   test_loss : 4878.006\n",
      "epoch : 187   train_loss : 4335.041   valid_loss : 4300.812   test_loss : 4877.300\n",
      "epoch : 188   train_loss : 4331.712   valid_loss : 4290.479   test_loss : 4869.772\n",
      "epoch : 189   train_loss : 4330.561   valid_loss : 4286.162   test_loss : 4866.021\n",
      "epoch : 190   train_loss : 4329.077   valid_loss : 4284.729   test_loss : 4863.998\n",
      "epoch : 191   train_loss : 4328.031   valid_loss : 4286.943   test_loss : 4864.157\n",
      "epoch : 192   train_loss : 4325.579   valid_loss : 4283.425   test_loss : 4860.913\n",
      "epoch : 193   train_loss : 4323.689   valid_loss : 4294.025   test_loss : 4866.334\n",
      "epoch : 194   train_loss : 4322.742   valid_loss : 4296.878   test_loss : 4867.113\n",
      "epoch : 195   train_loss : 4319.407   valid_loss : 4282.929   test_loss : 4857.302\n",
      "epoch : 196   train_loss : 4319.358   valid_loss : 4288.676   test_loss : 4859.802\n",
      "epoch : 197   train_loss : 4317.266   valid_loss : 4294.207   test_loss : 4862.336\n",
      "epoch : 198   train_loss : 4316.663   valid_loss : 4291.939   test_loss : 4859.869\n",
      "epoch : 199   train_loss : 4314.830   valid_loss : 4282.841   test_loss : 4853.088\n",
      "epoch : 200   train_loss : 4313.522   valid_loss : 4285.637   test_loss : 4853.853\n",
      "epoch : 201   train_loss : 4311.751   valid_loss : 4278.146   test_loss : 4848.181\n",
      "epoch : 202   train_loss : 4310.520   valid_loss : 4274.986   test_loss : 4845.260\n",
      "epoch : 203   train_loss : 4309.131   valid_loss : 4274.771   test_loss : 4844.145\n",
      "epoch : 204   train_loss : 4307.805   valid_loss : 4276.541   test_loss : 4844.275\n",
      "epoch : 205   train_loss : 4305.062   valid_loss : 4268.754   test_loss : 4838.587\n",
      "epoch : 206   train_loss : 4304.504   valid_loss : 4270.230   test_loss : 4838.524\n",
      "epoch : 207   train_loss : 4302.178   valid_loss : 4264.158   test_loss : 4833.973\n",
      "epoch : 208   train_loss : 4302.459   valid_loss : 4269.387   test_loss : 4836.167\n",
      "epoch : 209   train_loss : 4300.586   valid_loss : 4266.502   test_loss : 4833.498\n",
      "epoch : 210   train_loss : 4298.840   valid_loss : 4263.491   test_loss : 4830.776\n",
      "epoch : 211   train_loss : 4298.088   valid_loss : 4263.077   test_loss : 4829.622\n",
      "epoch : 212   train_loss : 4296.775   valid_loss : 4267.328   test_loss : 4831.329\n",
      "epoch : 213   train_loss : 4295.297   valid_loss : 4266.281   test_loss : 4829.830\n",
      "epoch : 214   train_loss : 4293.798   valid_loss : 4267.492   test_loss : 4829.745\n",
      "epoch : 215   train_loss : 4292.613   valid_loss : 4268.313   test_loss : 4829.438\n",
      "epoch : 216   train_loss : 4289.478   valid_loss : 4257.247   test_loss : 4821.830\n",
      "epoch : 217   train_loss : 4290.221   valid_loss : 4263.058   test_loss : 4824.534\n",
      "epoch : 218   train_loss : 4288.883   valid_loss : 4266.052   test_loss : 4825.617\n",
      "epoch : 219   train_loss : 4287.692   valid_loss : 4265.139   test_loss : 4824.255\n",
      "epoch : 220   train_loss : 4286.743   valid_loss : 4265.953   test_loss : 4824.006\n",
      "epoch : 221   train_loss : 4285.476   valid_loss : 4259.803   test_loss : 4819.355\n",
      "Train finished. Best model's test loss : 4821.830\n"
     ]
    }
   ],
   "source": [
    "# diabetes dataset\n",
    "\n",
    "!python3 LinearRegression/main.py --data_name diabetes_dataset --feature_dim 10 --n_epoch 1000 --early_stopping True --learning_rate 0.1"
   ]
  },
  {
   "cell_type": "markdown",
   "id": "8bfd62ce",
   "metadata": {},
   "source": [
    "# Logistic regression"
   ]
  },
  {
   "cell_type": "markdown",
   "id": "7f037d1e",
   "metadata": {
    "ExecuteTime": {
     "end_time": "2021-12-14T06:44:44.569862Z",
     "start_time": "2021-12-14T06:44:44.565576Z"
    }
   },
   "source": [
    "## Logistic regression 학습을 위한 식 정리"
   ]
  },
  {
   "cell_type": "markdown",
   "id": "9a9fbc7d",
   "metadata": {},
   "source": [
    "### 기본 Gradient식 정리"
   ]
  },
  {
   "cell_type": "markdown",
   "id": "d3be1a3d",
   "metadata": {},
   "source": [
    "$$ \\frac{\\partial \\bf J}{\\partial \\bf W} = \\sum_{(x,t)\\in D_m}\\bf(y - t)x^\\top = X^\\top(Y - T)$$"
   ]
  },
  {
   "cell_type": "markdown",
   "id": "2db18acf",
   "metadata": {},
   "source": [
    "$$ \\frac{\\partial \\bf J}{\\partial b} = \\sum_{x,t \\in D_m}\\bf(y-t) = (Y - T)^\\top \\bf 1_m$$"
   ]
  },
  {
   "cell_type": "markdown",
   "id": "92a52af9-7671-440f-9813-3ff26a339d66",
   "metadata": {},
   "source": [
    "### L2 정규화를 반영한 파라미터 update식 정리"
   ]
  },
  {
   "cell_type": "markdown",
   "id": "e521e43b-28aa-42e6-ae22-0813a9dd9361",
   "metadata": {
    "execution": {
     "iopub.execute_input": "2021-12-15T13:37:51.596928Z",
     "iopub.status.busy": "2021-12-15T13:37:51.596725Z",
     "iopub.status.idle": "2021-12-15T13:37:51.601831Z",
     "shell.execute_reply": "2021-12-15T13:37:51.601192Z",
     "shell.execute_reply.started": "2021-12-15T13:37:51.596912Z"
    },
    "tags": []
   },
   "source": [
    "batch_num = ceil(N / M)  \n",
    "lr = $\\eta$  \n",
    "for i in range(epoch){  \n",
    "    $\\quad$ for j in range(batch_num){  \n",
    "        $\\qquad D_m = sample(X, m)$  \n",
    "        $\\qquad w_{grad} = \\sum_{(x,t)\\in D_m}\\bf(y - t)x^\\top = X^\\top(Y - T) $  \n",
    "        $\\qquad b_{grad} = \\sum_{x,t \\in D_m}\\bf(y-t) = (Y - T)^\\top \\bf 1_m$  \n",
    "        $\\qquad w = w - lr * w_{grad} / m$  \n",
    "        $\\qquad b = b - lr * b_{grad} / m$  \n",
    "    $\\quad$}  \n",
    "}"
   ]
  },
  {
   "cell_type": "markdown",
   "id": "9ad97402-3a6d-48fc-9ba6-243e1531ae7c",
   "metadata": {},
   "source": [
    "## Early stopping을 반영한 SGD Method"
   ]
  },
  {
   "cell_type": "markdown",
   "id": "bad41456-54b6-4803-a807-8745f543327c",
   "metadata": {},
   "source": [
    "2번과 마찬가지로 미니배치로 나눈 train data를 이용하여 1 epoch만큼 학습하고, valid dataset을 이용하여 accuracy와 비교한다.   \n",
    "만약 n_early 에포크 만큼 accuracy가 증가하지 않는다면, 모델 학습을 중단하고 스냅샷 찍어놓은 모델을 채택한다."
   ]
  },
  {
   "cell_type": "markdown",
   "id": "7ce4b6ae-ee03-498b-90f7-fa8086eb055e",
   "metadata": {},
   "source": [
    "## Logistic regression 학습을 위한 Stochastic Gradient Method 구현"
   ]
  },
  {
   "cell_type": "markdown",
   "id": "4608edb6-128d-404d-9412-6530608f4535",
   "metadata": {},
   "source": [
    "### 코드 설명"
   ]
  },
  {
   "cell_type": "markdown",
   "id": "97a3242d-8ff5-4e10-b356-31cb9dc27654",
   "metadata": {},
   "source": [
    "로지스틱 회귀는 앞의 선형 회귀에서 SoftMax가 추가되었다. 그리고 손실함수로 Cross_entropy를 사용한다.  \n"
   ]
  },
  {
   "cell_type": "markdown",
   "id": "6931693b-69c5-4e2b-b3b5-e6939c8b8765",
   "metadata": {},
   "source": [
    "* 2번에서 변경된 부분만 작성하였습니다.\n",
    "\n",
    "1. datatools.py\n",
    "    - get_MNIST_data : sklearn에 내장되어있는 fetch_openml을 이용하여 mnist_784를 다운받는다. 그리고 해당 데이터셋을 train_test_split을 이용하여 나눈다.\n",
    "2. logistic_regression.py\n",
    "    - 기존 linear_regression은 output 차원이 1이였는데, 이것을 k 차원으로 확장하였다. 그리고 softmax 함수를 구현하여 XW+b를 확률로 표현하였다.\n",
    "3. trainer.py\n",
    "    - 선형회귀는 MSE Loss를 사용하였으나, 로지스틱 회귀는 Cross Entropy Loss를 사용하였다. 그리고 early_stopping의 지표로 accuracy를 사용하였다.\n",
    "\n"
   ]
  },
  {
   "cell_type": "code",
   "execution_count": 25,
   "id": "759c0395-0314-42eb-a7d8-79040bd073f5",
   "metadata": {
    "execution": {
     "iopub.execute_input": "2021-12-15T14:04:38.600652Z",
     "iopub.status.busy": "2021-12-15T14:04:38.600448Z",
     "iopub.status.idle": "2021-12-15T14:05:24.424721Z",
     "shell.execute_reply": "2021-12-15T14:05:24.423807Z",
     "shell.execute_reply.started": "2021-12-15T14:04:38.600635Z"
    },
    "tags": []
   },
   "outputs": [
    {
     "name": "stdout",
     "output_type": "stream",
     "text": [
      "epoch : 1   train_loss : 3.190   valid_loss : 1.598   test_loss : 1.662\n",
      "              train_acc : 0.581   valid_acc : 0.594   test_acc : 0.577\n",
      "epoch : 2   train_loss : 1.287   valid_loss : 0.989   test_loss : 1.035\n",
      "              train_acc : 0.734   valid_acc : 0.719   test_acc : 0.709\n",
      "epoch : 3   train_loss : 0.910   valid_loss : 0.768   test_loss : 0.803\n",
      "              train_acc : 0.719   valid_acc : 0.772   test_acc : 0.765\n",
      "epoch : 4   train_loss : 0.741   valid_loss : 0.651   test_loss : 0.678\n",
      "              train_acc : 0.781   valid_acc : 0.803   test_acc : 0.794\n",
      "epoch : 5   train_loss : 0.643   valid_loss : 0.577   test_loss : 0.600\n",
      "              train_acc : 0.844   valid_acc : 0.825   test_acc : 0.817\n",
      "epoch : 6   train_loss : 0.578   valid_loss : 0.528   test_loss : 0.547\n",
      "              train_acc : 0.828   valid_acc : 0.841   test_acc : 0.833\n",
      "epoch : 7   train_loss : 0.533   valid_loss : 0.493   test_loss : 0.509\n",
      "              train_acc : 0.828   valid_acc : 0.856   test_acc : 0.846\n",
      "epoch : 8   train_loss : 0.501   valid_loss : 0.467   test_loss : 0.482\n",
      "              train_acc : 0.875   valid_acc : 0.867   test_acc : 0.856\n",
      "epoch : 9   train_loss : 0.477   valid_loss : 0.449   test_loss : 0.462\n",
      "              train_acc : 0.922   valid_acc : 0.877   test_acc : 0.862\n",
      "epoch : 10   train_loss : 0.460   valid_loss : 0.435   test_loss : 0.448\n",
      "              train_acc : 0.922   valid_acc : 0.881   test_acc : 0.868\n",
      "epoch : 11   train_loss : 0.447   valid_loss : 0.424   test_loss : 0.437\n",
      "              train_acc : 0.938   valid_acc : 0.885   test_acc : 0.872\n",
      "epoch : 12   train_loss : 0.437   valid_loss : 0.416   test_loss : 0.428\n",
      "              train_acc : 0.891   valid_acc : 0.887   test_acc : 0.877\n",
      "epoch : 13   train_loss : 0.430   valid_loss : 0.410   test_loss : 0.422\n",
      "              train_acc : 0.891   valid_acc : 0.889   test_acc : 0.881\n",
      "epoch : 14   train_loss : 0.424   valid_loss : 0.406   test_loss : 0.417\n",
      "              train_acc : 0.938   valid_acc : 0.892   test_acc : 0.884\n",
      "epoch : 15   train_loss : 0.419   valid_loss : 0.402   test_loss : 0.413\n",
      "              train_acc : 0.891   valid_acc : 0.895   test_acc : 0.888\n",
      "epoch : 16   train_loss : 0.416   valid_loss : 0.399   test_loss : 0.410\n",
      "              train_acc : 0.844   valid_acc : 0.896   test_acc : 0.891\n",
      "epoch : 17   train_loss : 0.413   valid_loss : 0.396   test_loss : 0.408\n",
      "              train_acc : 0.922   valid_acc : 0.898   test_acc : 0.893\n",
      "epoch : 18   train_loss : 0.410   valid_loss : 0.395   test_loss : 0.406\n",
      "              train_acc : 0.906   valid_acc : 0.899   test_acc : 0.894\n",
      "epoch : 19   train_loss : 0.409   valid_loss : 0.393   test_loss : 0.404\n",
      "              train_acc : 0.938   valid_acc : 0.899   test_acc : 0.896\n",
      "epoch : 20   train_loss : 0.407   valid_loss : 0.392   test_loss : 0.403\n",
      "              train_acc : 0.875   valid_acc : 0.901   test_acc : 0.896\n",
      "epoch : 21   train_loss : 0.406   valid_loss : 0.390   test_loss : 0.401\n",
      "              train_acc : 0.906   valid_acc : 0.901   test_acc : 0.897\n",
      "epoch : 22   train_loss : 0.405   valid_loss : 0.390   test_loss : 0.401\n",
      "              train_acc : 0.938   valid_acc : 0.901   test_acc : 0.898\n",
      "epoch : 23   train_loss : 0.404   valid_loss : 0.389   test_loss : 0.400\n",
      "              train_acc : 0.875   valid_acc : 0.901   test_acc : 0.898\n",
      "epoch : 24   train_loss : 0.403   valid_loss : 0.388   test_loss : 0.399\n",
      "              train_acc : 0.922   valid_acc : 0.901   test_acc : 0.899\n",
      "epoch : 25   train_loss : 0.403   valid_loss : 0.388   test_loss : 0.398\n",
      "              train_acc : 0.891   valid_acc : 0.901   test_acc : 0.899\n",
      "epoch : 26   train_loss : 0.402   valid_loss : 0.387   test_loss : 0.398\n",
      "              train_acc : 0.984   valid_acc : 0.902   test_acc : 0.899\n",
      "epoch : 27   train_loss : 0.402   valid_loss : 0.387   test_loss : 0.398\n",
      "              train_acc : 0.922   valid_acc : 0.901   test_acc : 0.899\n",
      "epoch : 28   train_loss : 0.401   valid_loss : 0.386   test_loss : 0.397\n",
      "              train_acc : 0.969   valid_acc : 0.903   test_acc : 0.900\n",
      "epoch : 29   train_loss : 0.401   valid_loss : 0.386   test_loss : 0.397\n",
      "              train_acc : 0.922   valid_acc : 0.903   test_acc : 0.900\n",
      "epoch : 30   train_loss : 0.401   valid_loss : 0.386   test_loss : 0.397\n",
      "              train_acc : 0.891   valid_acc : 0.905   test_acc : 0.901\n",
      "epoch : 31   train_loss : 0.401   valid_loss : 0.385   test_loss : 0.396\n",
      "              train_acc : 0.828   valid_acc : 0.903   test_acc : 0.900\n",
      "epoch : 32   train_loss : 0.400   valid_loss : 0.386   test_loss : 0.396\n",
      "              train_acc : 0.906   valid_acc : 0.904   test_acc : 0.900\n",
      "epoch : 33   train_loss : 0.400   valid_loss : 0.385   test_loss : 0.396\n",
      "              train_acc : 0.906   valid_acc : 0.904   test_acc : 0.900\n",
      "epoch : 34   train_loss : 0.400   valid_loss : 0.385   test_loss : 0.396\n",
      "              train_acc : 0.906   valid_acc : 0.903   test_acc : 0.900\n",
      "epoch : 35   train_loss : 0.400   valid_loss : 0.385   test_loss : 0.396\n",
      "              train_acc : 0.906   valid_acc : 0.904   test_acc : 0.901\n",
      "epoch : 36   train_loss : 0.400   valid_loss : 0.385   test_loss : 0.396\n",
      "              train_acc : 0.906   valid_acc : 0.905   test_acc : 0.900\n",
      "epoch : 37   train_loss : 0.400   valid_loss : 0.385   test_loss : 0.395\n",
      "              train_acc : 0.969   valid_acc : 0.904   test_acc : 0.900\n",
      "epoch : 38   train_loss : 0.399   valid_loss : 0.384   test_loss : 0.395\n",
      "              train_acc : 0.938   valid_acc : 0.904   test_acc : 0.900\n",
      "epoch : 39   train_loss : 0.399   valid_loss : 0.384   test_loss : 0.395\n",
      "              train_acc : 0.906   valid_acc : 0.904   test_acc : 0.900\n",
      "epoch : 40   train_loss : 0.399   valid_loss : 0.384   test_loss : 0.395\n",
      "              train_acc : 0.859   valid_acc : 0.905   test_acc : 0.901\n",
      "Train finished. Best model's test accuracy : 0.901\n"
     ]
    }
   ],
   "source": [
    "# 로지스틱 회귀를 이용하여 MNIST를 classify한 결과\n",
    "\n",
    "!python3 LogisticRegression/main.py --n_epoch 1000 --early_stopping True --batch_size 64 --n_iter_no_change 10"
   ]
  },
  {
   "cell_type": "markdown",
   "id": "7a665305-f7f5-4c3f-97d5-1ca9df9654e3",
   "metadata": {},
   "source": [
    "# Multi-layer perceptron(MLP)"
   ]
  },
  {
   "cell_type": "markdown",
   "id": "52379d85-e970-4d30-b60c-dd3ffa4bb453",
   "metadata": {},
   "source": [
    "## backpropagation 유도를 위한 기본 규칙"
   ]
  },
  {
   "cell_type": "markdown",
   "id": "541b6cbc-0c81-404c-99a2-5aa9d9cb8ebe",
   "metadata": {},
   "source": [
    "### Layer l의 post-activation delta vector로부터 pre-activation delta vector를 구하는 backprop 과정"
   ]
  },
  {
   "cell_type": "markdown",
   "id": "1a4c40f6-e8cb-4230-8467-4acc48a79846",
   "metadata": {},
   "source": [
    "$$ \\delta_z = \\delta_h * f'(z) $$"
   ]
  },
  {
   "cell_type": "markdown",
   "id": "325617e0-416e-42b4-85c5-2f3ed17cbf58",
   "metadata": {},
   "source": [
    "### Layer l의 delta vector로부터 layer l-1 delta vector 구하는 backprop 과정"
   ]
  },
  {
   "cell_type": "markdown",
   "id": "0c10bd7b-3f04-4191-833f-42a807627940",
   "metadata": {},
   "source": [
    "$$ \\delta_x = W^\\top \\delta_z   $$"
   ]
  },
  {
   "cell_type": "markdown",
   "id": "bb935367-7b81-4631-a700-e2420255ccd8",
   "metadata": {},
   "source": [
    "### layer l의 delta vector가 주어질때 Parameter matrix update"
   ]
  },
  {
   "cell_type": "markdown",
   "id": "308effe4-6a79-4d06-9745-58297b6a3ded",
   "metadata": {},
   "source": [
    "$$ \\Delta W = \\delta_z x^\\top $$\n",
    "$$ \\Delta b = \\delta_z $$"
   ]
  },
  {
   "cell_type": "markdown",
   "id": "539d14b2-4621-42d6-b4c9-32f04aae2239",
   "metadata": {},
   "source": [
    "## L개의 layer로 구성된 MLP의 backpropagation 알고리즘"
   ]
  },
  {
   "cell_type": "markdown",
   "id": "1dcba68e-114f-4ee9-b435-5be287af74fb",
   "metadata": {},
   "source": [
    "backpropagation을 진행하는 방법은 다음과 같다.  \n",
    "각각의 함수를 클래스로 만든다. (Relu, FC, Softmax)    \n",
    "그리고 forward를 할 때, 입력 값을 멤버변수로 저장한다. (Backward시 gradient 계산하는데 필요함)    \n",
    "현재까지 전달해온 upstream gradient를 입력으로 받아, 각각의 함수에 맞는 미분 공식을 이용하여 downstream gradient를 계산한다.  \n",
    "\n",
    "\n",
    "함수의 backward 공식  \n",
    "- Relu : $$\\delta_z = \\delta_h * mask$$ (입력이 0보다 크면 mask = 1, 0보다 작으면 mask = 0)  \n",
    "- FC : \n",
    "$$\\delta_X = \\delta_z W^\\top  $$\n",
    "$$\\delta_W = X^\\top \\delta_z $$\n",
    "$$\\delta_b = \\sum \\delta_z $$\n",
    "- Softmax :\n",
    "$$ \\delta_Z = \\delta_L * (p_t - t) $$\n",
    "\n"
   ]
  },
  {
   "cell_type": "markdown",
   "id": "8da7a7d2-b9ac-4956-aebf-cd6eab8732b5",
   "metadata": {},
   "source": [
    "## MLP학습을 위한 Stochastic Gradient Descent Method 구현"
   ]
  },
  {
   "cell_type": "markdown",
   "id": "1d20d9d8-9012-44f8-823b-f8f54c0907c0",
   "metadata": {},
   "source": [
    "### 코드 설명\n",
    "\n",
    "앞서 기술헀던 gradient 공식을 이용하여 각각의 함수들을 클래스로 구현하였다.  \n",
    "hidden layer만큼 FC와 ReLU 인스턴스를 생성하고,  리스트안에 묶어 저장한다.     \n",
    "마찬가지로 output layer는 FC와 Softmax 인스턴스를 저장한다.    \n",
    "forward시 hidden layer list를 순회하며 hidden representation을 출력한다. 그리고 output layer를 통해 클래스별 확률을 게산한다.  \n",
    "backward시 forward의 역순으로 gradient를 계산하며 gradient list에 저장한다.\n",
    "그리고 각 미니배치마다 파라미터를 업데이트한다.\n"
   ]
  },
  {
   "cell_type": "code",
   "execution_count": 21,
   "id": "490b00c2-37ca-46ab-a265-00fc7b6a40b7",
   "metadata": {
    "execution": {
     "iopub.execute_input": "2021-12-15T13:50:23.396546Z",
     "iopub.status.busy": "2021-12-15T13:50:23.396372Z",
     "iopub.status.idle": "2021-12-15T13:51:19.661786Z",
     "shell.execute_reply": "2021-12-15T13:51:19.661244Z",
     "shell.execute_reply.started": "2021-12-15T13:50:23.396527Z"
    },
    "tags": []
   },
   "outputs": [
    {
     "name": "stdout",
     "output_type": "stream",
     "text": [
      "epoch : 1   train_loss : 2.916   valid_loss : 0.571   test_loss : 0.581\n",
      "              train_acc : 0.791   valid_acc : 0.878   test_acc : 0.862\n",
      "epoch : 2   train_loss : 2.189   valid_loss : 0.419   test_loss : 0.434\n",
      "              train_acc : 0.906   valid_acc : 0.900   test_acc : 0.888\n",
      "epoch : 3   train_loss : 1.922   valid_loss : 0.367   test_loss : 0.385\n",
      "              train_acc : 0.875   valid_acc : 0.910   test_acc : 0.898\n",
      "epoch : 4   train_loss : 1.720   valid_loss : 0.341   test_loss : 0.360\n",
      "              train_acc : 0.922   valid_acc : 0.914   test_acc : 0.904\n",
      "epoch : 5   train_loss : 1.556   valid_loss : 0.325   test_loss : 0.343\n",
      "              train_acc : 0.891   valid_acc : 0.920   test_acc : 0.910\n",
      "epoch : 6   train_loss : 1.422   valid_loss : 0.313   test_loss : 0.332\n",
      "              train_acc : 0.875   valid_acc : 0.923   test_acc : 0.912\n",
      "epoch : 7   train_loss : 1.311   valid_loss : 0.304   test_loss : 0.324\n",
      "              train_acc : 0.891   valid_acc : 0.926   test_acc : 0.916\n",
      "epoch : 8   train_loss : 1.220   valid_loss : 0.298   test_loss : 0.317\n",
      "              train_acc : 0.984   valid_acc : 0.929   test_acc : 0.917\n",
      "epoch : 9   train_loss : 1.144   valid_loss : 0.293   test_loss : 0.312\n",
      "              train_acc : 0.891   valid_acc : 0.929   test_acc : 0.918\n",
      "epoch : 10   train_loss : 1.081   valid_loss : 0.289   test_loss : 0.308\n",
      "              train_acc : 0.906   valid_acc : 0.931   test_acc : 0.920\n",
      "epoch : 11   train_loss : 1.030   valid_loss : 0.285   test_loss : 0.304\n",
      "              train_acc : 0.891   valid_acc : 0.933   test_acc : 0.922\n",
      "epoch : 12   train_loss : 0.987   valid_loss : 0.282   test_loss : 0.301\n",
      "              train_acc : 0.922   valid_acc : 0.932   test_acc : 0.922\n",
      "epoch : 13   train_loss : 0.951   valid_loss : 0.280   test_loss : 0.298\n",
      "              train_acc : 0.922   valid_acc : 0.932   test_acc : 0.923\n",
      "epoch : 14   train_loss : 0.922   valid_loss : 0.278   test_loss : 0.296\n",
      "              train_acc : 0.953   valid_acc : 0.934   test_acc : 0.924\n",
      "epoch : 15   train_loss : 0.897   valid_loss : 0.276   test_loss : 0.294\n",
      "              train_acc : 0.891   valid_acc : 0.935   test_acc : 0.924\n",
      "epoch : 16   train_loss : 0.877   valid_loss : 0.274   test_loss : 0.292\n",
      "              train_acc : 0.938   valid_acc : 0.937   test_acc : 0.925\n",
      "epoch : 17   train_loss : 0.860   valid_loss : 0.273   test_loss : 0.291\n",
      "              train_acc : 0.953   valid_acc : 0.937   test_acc : 0.924\n",
      "epoch : 18   train_loss : 0.846   valid_loss : 0.271   test_loss : 0.289\n",
      "              train_acc : 0.938   valid_acc : 0.937   test_acc : 0.925\n",
      "epoch : 19   train_loss : 0.834   valid_loss : 0.270   test_loss : 0.288\n",
      "              train_acc : 0.906   valid_acc : 0.937   test_acc : 0.925\n",
      "epoch : 20   train_loss : 0.824   valid_loss : 0.269   test_loss : 0.287\n",
      "              train_acc : 0.938   valid_acc : 0.937   test_acc : 0.926\n",
      "epoch : 21   train_loss : 0.816   valid_loss : 0.268   test_loss : 0.286\n",
      "              train_acc : 0.969   valid_acc : 0.939   test_acc : 0.926\n",
      "epoch : 22   train_loss : 0.809   valid_loss : 0.267   test_loss : 0.285\n",
      "              train_acc : 0.969   valid_acc : 0.938   test_acc : 0.926\n",
      "epoch : 23   train_loss : 0.804   valid_loss : 0.266   test_loss : 0.284\n",
      "              train_acc : 0.906   valid_acc : 0.937   test_acc : 0.927\n",
      "epoch : 24   train_loss : 0.799   valid_loss : 0.266   test_loss : 0.283\n",
      "              train_acc : 0.969   valid_acc : 0.939   test_acc : 0.927\n",
      "epoch : 25   train_loss : 0.795   valid_loss : 0.265   test_loss : 0.282\n",
      "              train_acc : 0.906   valid_acc : 0.939   test_acc : 0.928\n",
      "epoch : 26   train_loss : 0.792   valid_loss : 0.265   test_loss : 0.282\n",
      "              train_acc : 0.953   valid_acc : 0.940   test_acc : 0.928\n",
      "epoch : 27   train_loss : 0.789   valid_loss : 0.264   test_loss : 0.281\n",
      "              train_acc : 0.969   valid_acc : 0.940   test_acc : 0.928\n",
      "epoch : 28   train_loss : 0.786   valid_loss : 0.263   test_loss : 0.281\n",
      "              train_acc : 0.969   valid_acc : 0.941   test_acc : 0.929\n",
      "epoch : 29   train_loss : 0.784   valid_loss : 0.263   test_loss : 0.280\n",
      "              train_acc : 0.922   valid_acc : 0.939   test_acc : 0.929\n",
      "epoch : 30   train_loss : 0.783   valid_loss : 0.262   test_loss : 0.279\n",
      "              train_acc : 0.938   valid_acc : 0.940   test_acc : 0.929\n",
      "epoch : 31   train_loss : 0.782   valid_loss : 0.262   test_loss : 0.279\n",
      "              train_acc : 0.984   valid_acc : 0.941   test_acc : 0.929\n",
      "Train finished. Best model's test accuracy : 0.928\n"
     ]
    }
   ],
   "source": [
    "!python3 MultiLayerPerceptron/main.py --n_epoch 100 --early_stopping True --nhidden 1 --hidden_dim \"[100]\""
   ]
  },
  {
   "cell_type": "code",
   "execution_count": 22,
   "id": "2ca2a3df-1e64-4568-b43f-43e684479337",
   "metadata": {
    "execution": {
     "iopub.execute_input": "2021-12-15T13:51:19.663697Z",
     "iopub.status.busy": "2021-12-15T13:51:19.663459Z",
     "iopub.status.idle": "2021-12-15T13:52:22.423487Z",
     "shell.execute_reply": "2021-12-15T13:52:22.422803Z",
     "shell.execute_reply.started": "2021-12-15T13:51:19.663670Z"
    },
    "tags": []
   },
   "outputs": [
    {
     "name": "stdout",
     "output_type": "stream",
     "text": [
      "epoch : 1   train_loss : 3.665   valid_loss : 0.544   test_loss : 0.544\n",
      "              train_acc : 0.930   valid_acc : 0.873   test_acc : 0.871\n",
      "epoch : 2   train_loss : 2.708   valid_loss : 0.365   test_loss : 0.368\n",
      "              train_acc : 0.859   valid_acc : 0.903   test_acc : 0.905\n",
      "epoch : 3   train_loss : 2.358   valid_loss : 0.315   test_loss : 0.319\n",
      "              train_acc : 0.953   valid_acc : 0.915   test_acc : 0.918\n",
      "epoch : 4   train_loss : 2.093   valid_loss : 0.291   test_loss : 0.296\n",
      "              train_acc : 0.922   valid_acc : 0.922   test_acc : 0.923\n",
      "epoch : 5   train_loss : 1.879   valid_loss : 0.276   test_loss : 0.281\n",
      "              train_acc : 0.938   valid_acc : 0.929   test_acc : 0.928\n",
      "epoch : 6   train_loss : 1.703   valid_loss : 0.266   test_loss : 0.271\n",
      "              train_acc : 0.938   valid_acc : 0.932   test_acc : 0.931\n",
      "epoch : 7   train_loss : 1.558   valid_loss : 0.258   test_loss : 0.263\n",
      "              train_acc : 0.922   valid_acc : 0.936   test_acc : 0.933\n",
      "epoch : 8   train_loss : 1.438   valid_loss : 0.251   test_loss : 0.256\n",
      "              train_acc : 0.906   valid_acc : 0.938   test_acc : 0.934\n",
      "epoch : 9   train_loss : 1.339   valid_loss : 0.245   test_loss : 0.252\n",
      "              train_acc : 0.969   valid_acc : 0.939   test_acc : 0.936\n",
      "epoch : 10   train_loss : 1.258   valid_loss : 0.241   test_loss : 0.247\n",
      "              train_acc : 0.922   valid_acc : 0.940   test_acc : 0.936\n",
      "epoch : 11   train_loss : 1.190   valid_loss : 0.237   test_loss : 0.244\n",
      "              train_acc : 0.953   valid_acc : 0.940   test_acc : 0.938\n",
      "epoch : 12   train_loss : 1.134   valid_loss : 0.234   test_loss : 0.240\n",
      "              train_acc : 0.922   valid_acc : 0.941   test_acc : 0.939\n",
      "epoch : 13   train_loss : 1.087   valid_loss : 0.231   test_loss : 0.238\n",
      "              train_acc : 0.938   valid_acc : 0.943   test_acc : 0.938\n",
      "epoch : 14   train_loss : 1.048   valid_loss : 0.228   test_loss : 0.235\n",
      "              train_acc : 0.953   valid_acc : 0.944   test_acc : 0.940\n",
      "epoch : 15   train_loss : 1.016   valid_loss : 0.226   test_loss : 0.234\n",
      "              train_acc : 0.922   valid_acc : 0.945   test_acc : 0.941\n",
      "epoch : 16   train_loss : 0.989   valid_loss : 0.224   test_loss : 0.231\n",
      "              train_acc : 0.969   valid_acc : 0.945   test_acc : 0.941\n",
      "epoch : 17   train_loss : 0.967   valid_loss : 0.223   test_loss : 0.229\n",
      "              train_acc : 0.984   valid_acc : 0.946   test_acc : 0.942\n",
      "epoch : 18   train_loss : 0.949   valid_loss : 0.221   test_loss : 0.228\n",
      "              train_acc : 0.938   valid_acc : 0.945   test_acc : 0.942\n",
      "epoch : 19   train_loss : 0.933   valid_loss : 0.219   test_loss : 0.226\n",
      "              train_acc : 0.984   valid_acc : 0.946   test_acc : 0.943\n",
      "epoch : 20   train_loss : 0.920   valid_loss : 0.218   test_loss : 0.225\n",
      "              train_acc : 0.969   valid_acc : 0.947   test_acc : 0.942\n",
      "epoch : 21   train_loss : 0.910   valid_loss : 0.217   test_loss : 0.224\n",
      "              train_acc : 0.953   valid_acc : 0.947   test_acc : 0.944\n",
      "epoch : 22   train_loss : 0.900   valid_loss : 0.216   test_loss : 0.223\n",
      "              train_acc : 0.938   valid_acc : 0.947   test_acc : 0.943\n",
      "epoch : 23   train_loss : 0.893   valid_loss : 0.215   test_loss : 0.222\n",
      "              train_acc : 0.969   valid_acc : 0.948   test_acc : 0.944\n",
      "epoch : 24   train_loss : 0.887   valid_loss : 0.214   test_loss : 0.221\n",
      "              train_acc : 0.953   valid_acc : 0.948   test_acc : 0.944\n",
      "epoch : 25   train_loss : 0.881   valid_loss : 0.213   test_loss : 0.220\n",
      "              train_acc : 0.953   valid_acc : 0.948   test_acc : 0.944\n",
      "epoch : 26   train_loss : 0.877   valid_loss : 0.212   test_loss : 0.219\n",
      "              train_acc : 0.922   valid_acc : 0.949   test_acc : 0.944\n",
      "epoch : 27   train_loss : 0.873   valid_loss : 0.211   test_loss : 0.218\n",
      "              train_acc : 0.969   valid_acc : 0.948   test_acc : 0.944\n",
      "epoch : 28   train_loss : 0.870   valid_loss : 0.211   test_loss : 0.219\n",
      "              train_acc : 0.922   valid_acc : 0.947   test_acc : 0.944\n",
      "epoch : 29   train_loss : 0.867   valid_loss : 0.210   test_loss : 0.217\n",
      "              train_acc : 0.953   valid_acc : 0.948   test_acc : 0.946\n",
      "epoch : 30   train_loss : 0.865   valid_loss : 0.209   test_loss : 0.217\n",
      "              train_acc : 0.984   valid_acc : 0.949   test_acc : 0.945\n",
      "epoch : 31   train_loss : 0.863   valid_loss : 0.208   test_loss : 0.216\n",
      "              train_acc : 0.891   valid_acc : 0.948   test_acc : 0.945\n",
      "Train finished. Best model's test accuracy : 0.944\n"
     ]
    }
   ],
   "source": [
    "!python3 MultiLayerPerceptron/main.py --n_epoch 100 --early_stopping True --nhidden 2 --hidden_dim \"[100, 50]\""
   ]
  },
  {
   "cell_type": "code",
   "execution_count": 23,
   "id": "46d01ce6-fd1d-4f98-bcca-394f73dd966e",
   "metadata": {
    "execution": {
     "iopub.execute_input": "2021-12-15T13:52:22.425234Z",
     "iopub.status.busy": "2021-12-15T13:52:22.425030Z",
     "iopub.status.idle": "2021-12-15T13:53:24.786494Z",
     "shell.execute_reply": "2021-12-15T13:53:24.785927Z",
     "shell.execute_reply.started": "2021-12-15T13:52:22.425210Z"
    },
    "tags": []
   },
   "outputs": [
    {
     "name": "stdout",
     "output_type": "stream",
     "text": [
      "epoch : 1   train_loss : 4.420   valid_loss : 0.809   test_loss : 0.792\n",
      "              train_acc : 0.767   valid_acc : 0.762   test_acc : 0.775\n",
      "epoch : 2   train_loss : 3.074   valid_loss : 0.396   test_loss : 0.381\n",
      "              train_acc : 0.922   valid_acc : 0.891   test_acc : 0.904\n",
      "epoch : 3   train_loss : 2.621   valid_loss : 0.313   test_loss : 0.304\n",
      "              train_acc : 0.906   valid_acc : 0.914   test_acc : 0.918\n",
      "epoch : 4   train_loss : 2.313   valid_loss : 0.278   test_loss : 0.271\n",
      "              train_acc : 0.906   valid_acc : 0.926   test_acc : 0.927\n",
      "epoch : 5   train_loss : 2.069   valid_loss : 0.258   test_loss : 0.251\n",
      "              train_acc : 0.922   valid_acc : 0.929   test_acc : 0.933\n",
      "epoch : 6   train_loss : 1.869   valid_loss : 0.244   test_loss : 0.239\n",
      "              train_acc : 0.938   valid_acc : 0.933   test_acc : 0.937\n",
      "epoch : 7   train_loss : 1.706   valid_loss : 0.234   test_loss : 0.229\n",
      "              train_acc : 0.938   valid_acc : 0.936   test_acc : 0.941\n",
      "epoch : 8   train_loss : 1.571   valid_loss : 0.226   test_loss : 0.222\n",
      "              train_acc : 0.938   valid_acc : 0.938   test_acc : 0.943\n",
      "epoch : 9   train_loss : 1.459   valid_loss : 0.220   test_loss : 0.215\n",
      "              train_acc : 0.953   valid_acc : 0.939   test_acc : 0.946\n",
      "epoch : 10   train_loss : 1.366   valid_loss : 0.215   test_loss : 0.210\n",
      "              train_acc : 0.953   valid_acc : 0.943   test_acc : 0.947\n",
      "epoch : 11   train_loss : 1.290   valid_loss : 0.211   test_loss : 0.206\n",
      "              train_acc : 0.953   valid_acc : 0.943   test_acc : 0.947\n",
      "epoch : 12   train_loss : 1.226   valid_loss : 0.206   test_loss : 0.202\n",
      "              train_acc : 0.969   valid_acc : 0.945   test_acc : 0.950\n",
      "epoch : 13   train_loss : 1.172   valid_loss : 0.203   test_loss : 0.200\n",
      "              train_acc : 0.922   valid_acc : 0.944   test_acc : 0.951\n",
      "epoch : 14   train_loss : 1.128   valid_loss : 0.200   test_loss : 0.198\n",
      "              train_acc : 0.984   valid_acc : 0.947   test_acc : 0.951\n",
      "epoch : 15   train_loss : 1.090   valid_loss : 0.197   test_loss : 0.195\n",
      "              train_acc : 0.938   valid_acc : 0.947   test_acc : 0.951\n",
      "epoch : 16   train_loss : 1.059   valid_loss : 0.195   test_loss : 0.192\n",
      "              train_acc : 0.953   valid_acc : 0.948   test_acc : 0.953\n",
      "epoch : 17   train_loss : 1.033   valid_loss : 0.193   test_loss : 0.190\n",
      "              train_acc : 0.922   valid_acc : 0.948   test_acc : 0.953\n",
      "epoch : 18   train_loss : 1.012   valid_loss : 0.190   test_loss : 0.188\n",
      "              train_acc : 0.953   valid_acc : 0.949   test_acc : 0.954\n",
      "epoch : 19   train_loss : 0.993   valid_loss : 0.188   test_loss : 0.186\n",
      "              train_acc : 0.984   valid_acc : 0.949   test_acc : 0.954\n",
      "epoch : 20   train_loss : 0.978   valid_loss : 0.187   test_loss : 0.185\n",
      "              train_acc : 0.953   valid_acc : 0.952   test_acc : 0.955\n",
      "epoch : 21   train_loss : 0.965   valid_loss : 0.186   test_loss : 0.184\n",
      "              train_acc : 0.953   valid_acc : 0.951   test_acc : 0.955\n",
      "epoch : 22   train_loss : 0.954   valid_loss : 0.184   test_loss : 0.182\n",
      "              train_acc : 0.969   valid_acc : 0.952   test_acc : 0.956\n",
      "epoch : 23   train_loss : 0.944   valid_loss : 0.183   test_loss : 0.181\n",
      "              train_acc : 0.953   valid_acc : 0.950   test_acc : 0.955\n",
      "epoch : 24   train_loss : 0.937   valid_loss : 0.182   test_loss : 0.180\n",
      "              train_acc : 0.969   valid_acc : 0.951   test_acc : 0.956\n",
      "epoch : 25   train_loss : 0.930   valid_loss : 0.181   test_loss : 0.179\n",
      "              train_acc : 0.922   valid_acc : 0.954   test_acc : 0.957\n",
      "epoch : 26   train_loss : 0.924   valid_loss : 0.181   test_loss : 0.178\n",
      "              train_acc : 0.906   valid_acc : 0.952   test_acc : 0.956\n",
      "epoch : 27   train_loss : 0.919   valid_loss : 0.179   test_loss : 0.178\n",
      "              train_acc : 0.938   valid_acc : 0.953   test_acc : 0.956\n",
      "epoch : 28   train_loss : 0.915   valid_loss : 0.178   test_loss : 0.177\n",
      "              train_acc : 0.953   valid_acc : 0.953   test_acc : 0.956\n",
      "epoch : 29   train_loss : 0.912   valid_loss : 0.178   test_loss : 0.176\n",
      "              train_acc : 0.922   valid_acc : 0.953   test_acc : 0.956\n",
      "epoch : 30   train_loss : 0.909   valid_loss : 0.177   test_loss : 0.175\n",
      "              train_acc : 0.953   valid_acc : 0.953   test_acc : 0.957\n",
      "Train finished. Best model's test accuracy : 0.957\n"
     ]
    }
   ],
   "source": [
    "!python3 MultiLayerPerceptron/main.py --n_epoch 100 --early_stopping True --nhidden 3 --hidden_dim \"[100, 50, 30]\""
   ]
  },
  {
   "cell_type": "code",
   "execution_count": 24,
   "id": "23e9ca7d-516b-43f2-a3e2-d4b8292c0358",
   "metadata": {
    "execution": {
     "iopub.execute_input": "2021-12-15T13:53:24.790018Z",
     "iopub.status.busy": "2021-12-15T13:53:24.789137Z",
     "iopub.status.idle": "2021-12-15T13:54:28.620562Z",
     "shell.execute_reply": "2021-12-15T13:54:28.619557Z",
     "shell.execute_reply.started": "2021-12-15T13:53:24.789977Z"
    },
    "tags": []
   },
   "outputs": [
    {
     "name": "stdout",
     "output_type": "stream",
     "text": [
      "epoch : 1   train_loss : 4.679   valid_loss : 0.845   test_loss : 0.839\n",
      "              train_acc : 0.744   valid_acc : 0.748   test_acc : 0.751\n",
      "epoch : 2   train_loss : 3.349   valid_loss : 0.446   test_loss : 0.428\n",
      "              train_acc : 0.906   valid_acc : 0.884   test_acc : 0.889\n",
      "epoch : 3   train_loss : 2.855   valid_loss : 0.345   test_loss : 0.331\n",
      "              train_acc : 0.906   valid_acc : 0.911   test_acc : 0.914\n",
      "epoch : 4   train_loss : 2.512   valid_loss : 0.294   test_loss : 0.283\n",
      "              train_acc : 0.922   valid_acc : 0.926   test_acc : 0.929\n",
      "epoch : 5   train_loss : 2.242   valid_loss : 0.268   test_loss : 0.256\n",
      "              train_acc : 0.953   valid_acc : 0.935   test_acc : 0.937\n",
      "epoch : 6   train_loss : 2.022   valid_loss : 0.245   test_loss : 0.235\n",
      "              train_acc : 0.969   valid_acc : 0.937   test_acc : 0.940\n",
      "epoch : 7   train_loss : 1.843   valid_loss : 0.234   test_loss : 0.222\n",
      "              train_acc : 0.953   valid_acc : 0.943   test_acc : 0.943\n",
      "epoch : 8   train_loss : 1.695   valid_loss : 0.221   test_loss : 0.211\n",
      "              train_acc : 0.938   valid_acc : 0.944   test_acc : 0.947\n",
      "epoch : 9   train_loss : 1.573   valid_loss : 0.210   test_loss : 0.201\n",
      "              train_acc : 0.906   valid_acc : 0.948   test_acc : 0.950\n",
      "epoch : 10   train_loss : 1.472   valid_loss : 0.203   test_loss : 0.193\n",
      "              train_acc : 0.938   valid_acc : 0.950   test_acc : 0.952\n",
      "epoch : 11   train_loss : 1.388   valid_loss : 0.195   test_loss : 0.188\n",
      "              train_acc : 0.984   valid_acc : 0.952   test_acc : 0.954\n",
      "epoch : 12   train_loss : 1.318   valid_loss : 0.191   test_loss : 0.181\n",
      "              train_acc : 0.969   valid_acc : 0.955   test_acc : 0.956\n",
      "epoch : 13   train_loss : 1.259   valid_loss : 0.187   test_loss : 0.177\n",
      "              train_acc : 0.906   valid_acc : 0.957   test_acc : 0.957\n",
      "epoch : 14   train_loss : 1.210   valid_loss : 0.182   test_loss : 0.173\n",
      "              train_acc : 0.953   valid_acc : 0.958   test_acc : 0.959\n",
      "epoch : 15   train_loss : 1.169   valid_loss : 0.178   test_loss : 0.170\n",
      "              train_acc : 0.922   valid_acc : 0.959   test_acc : 0.959\n",
      "epoch : 16   train_loss : 1.134   valid_loss : 0.177   test_loss : 0.168\n",
      "              train_acc : 0.984   valid_acc : 0.959   test_acc : 0.960\n",
      "epoch : 17   train_loss : 1.104   valid_loss : 0.173   test_loss : 0.164\n",
      "              train_acc : 0.953   valid_acc : 0.960   test_acc : 0.962\n",
      "epoch : 18   train_loss : 1.080   valid_loss : 0.171   test_loss : 0.163\n",
      "              train_acc : 0.922   valid_acc : 0.960   test_acc : 0.961\n",
      "epoch : 19   train_loss : 1.059   valid_loss : 0.170   test_loss : 0.161\n",
      "              train_acc : 0.969   valid_acc : 0.960   test_acc : 0.962\n",
      "epoch : 20   train_loss : 1.041   valid_loss : 0.169   test_loss : 0.158\n",
      "              train_acc : 0.906   valid_acc : 0.962   test_acc : 0.963\n",
      "epoch : 21   train_loss : 1.026   valid_loss : 0.166   test_loss : 0.157\n",
      "              train_acc : 0.969   valid_acc : 0.963   test_acc : 0.964\n",
      "epoch : 22   train_loss : 1.012   valid_loss : 0.162   test_loss : 0.154\n",
      "              train_acc : 0.922   valid_acc : 0.964   test_acc : 0.963\n",
      "epoch : 23   train_loss : 1.001   valid_loss : 0.163   test_loss : 0.154\n",
      "              train_acc : 0.984   valid_acc : 0.962   test_acc : 0.963\n",
      "epoch : 24   train_loss : 0.991   valid_loss : 0.161   test_loss : 0.153\n",
      "              train_acc : 0.953   valid_acc : 0.963   test_acc : 0.963\n",
      "epoch : 25   train_loss : 0.982   valid_loss : 0.160   test_loss : 0.152\n",
      "              train_acc : 1.000   valid_acc : 0.964   test_acc : 0.963\n",
      "epoch : 26   train_loss : 0.975   valid_loss : 0.160   test_loss : 0.151\n",
      "              train_acc : 0.938   valid_acc : 0.964   test_acc : 0.965\n",
      "epoch : 27   train_loss : 0.968   valid_loss : 0.159   test_loss : 0.149\n",
      "              train_acc : 0.938   valid_acc : 0.964   test_acc : 0.965\n",
      "Train finished. Best model's test accuracy : 0.963\n"
     ]
    }
   ],
   "source": [
    "!python3 MultiLayerPerceptron/main.py --n_epoch 100 --early_stopping True --nhidden 4 --hidden_dim \"[100, 50, 30, 20]\""
   ]
  },
  {
   "attachments": {
    "373f5d66-f617-4508-943a-64a726a1a992.png": {
     "image/png": "[encoded data removed]"
    },
    "74a31b42-42e4-4fe6-bccb-1b66cc1bbc73.png": {
     "image/png": "[encoded data removed]"
    },
    "8e510c2f-91c9-4f51-a0ce-4092ad621935.png": {
     "image/png": "[encoded data removed]"
    },
    "e5b6cc4e-27e8-4d9f-807f-1340bc158a4c.png": {
     "image/png": "[encoded data removed]"
    }
   },
   "cell_type": "markdown",
   "id": "55debca1-6d22-4988-ae4b-03a0ff0038a3",
   "metadata": {},
   "source": [
    "- L = [1, 2, 3, 4] 학습결과 => Accuracy = [0.928, 0.945, 0.957, 0.963]  \n",
    "\n",
    "\n",
    "![accuracy_1.png](attachment:8e510c2f-91c9-4f51-a0ce-4092ad621935.png)![accuracy_2.png](attachment:373f5d66-f617-4508-943a-64a726a1a992.png)![accuracy_3.png](attachment:e5b6cc4e-27e8-4d9f-807f-1340bc158a4c.png)![accuracy_4.png](attachment:74a31b42-42e4-4fe6-bccb-1b66cc1bbc73.png)"
   ]
  },
  {
   "cell_type": "markdown",
   "id": "96f29508-1fe8-4dae-958c-285eb410ff56",
   "metadata": {},
   "source": [
    "***감사합니다.***"
   ]
  }
 ],
 "metadata": {
  "kernelspec": {
   "display_name": "Python 3 (ipykernel)",
   "language": "python",
   "name": "python3"
  },
  "language_info": {
   "codemirror_mode": {
    "name": "ipython",
    "version": 3
   },
   "file_extension": ".py",
   "mimetype": "text/x-python",
   "name": "python",
   "nbconvert_exporter": "python",
   "pygments_lexer": "ipython3",
   "version": "3.8.11"
  },
  "latex_envs": {
   "LaTeX_envs_menu_present": true,
   "autoclose": false,
   "autocomplete": true,
   "bibliofile": "biblio.bib",
   "cite_by": "apalike",
   "current_citInitial": 1,
   "eqLabelWithNumbers": true,
   "eqNumInitial": 1,
   "hotkeys": {
    "equation": "Ctrl-E",
    "itemize": "Ctrl-I"
   },
   "labels_anchors": false,
   "latex_user_defs": false,
   "report_style_numbering": false,
   "user_envs_cfg": false
  },
  "toc": {
   "base_numbering": 1,
   "nav_menu": {},
   "number_sections": true,
   "sideBar": true,
   "skip_h1_title": false,
   "title_cell": "Table of Contents",
   "title_sidebar": "Contents",
   "toc_cell": false,
   "toc_position": {},
   "toc_section_display": true,
   "toc_window_display": false
  },
  "toc-autonumbering": true,
  "toc-showcode": true,
  "toc-showmarkdowntxt": false,
  "toc-showtags": false,
  "varInspector": {
   "cols": {
    "lenName": 16,
    "lenType": 16,
    "lenVar": 40
   },
   "kernels_config": {
    "python": {
     "delete_cmd_postfix": "",
     "delete_cmd_prefix": "del ",
     "library": "var_list.py",
     "varRefreshCmd": "print(var_dic_list())"
    },
    "r": {
     "delete_cmd_postfix": ") ",
     "delete_cmd_prefix": "rm(",
     "library": "var_list.r",
     "varRefreshCmd": "cat(var_dic_list()) "
    }
   },
   "types_to_exclude": [
    "module",
    "function",
    "builtin_function_or_method",
    "instance",
    "_Feature"
   ],
   "window_display": false
  }
 },
 "nbformat": 4,
 "nbformat_minor": 5
}